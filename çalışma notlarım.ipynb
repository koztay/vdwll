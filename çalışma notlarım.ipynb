{
 "cells": [
  {
   "cell_type": "markdown",
   "metadata": {
    "collapsed": true
   },
   "source": [
    "github 'a başka bir cihazdan erişince ssh eklemek yeterli olmuyor. Eğer o repoyu clonlarken https ile klonlamışsak o zaman https ile bağlanmaya çalışıyor ve bu duurmda da sürekli kullanıcı adı ve şifre soruyor. Bunu engellemek için aşağıdaki komut ile ssh 'e switch etmek gerek:\t\n"
   ]
  },
  {
   "cell_type": "code",
   "execution_count": null,
   "metadata": {},
   "outputs": [],
   "source": [
    "git remote set-url origin git@github.com:username/repo.git"
   ]
  },
  {
   "cell_type": "markdown",
   "metadata": {},
   "source": [
    "pygtk window : https://developer.gnome.org/pygtk/stable/class-gtkwindow.html"
   ]
  },
  {
   "cell_type": "markdown",
   "metadata": {},
   "source": [
    "[gstreamer videomixer komut satırı örnekleri](https://developer.gnome.org/gst-plugins-libs/stable/gst-plugins-good-plugins-videomixer.html)"
   ]
  },
  {
   "cell_type": "markdown",
   "metadata": {},
   "source": [
    "Ubuntu Mate 'de import gi çalışmıyor. O nedenle Gtk3+ kurmak lazım aşağıdaki komutla kuruyoruz:\n",
    "\n",
    "```sh\n",
    "sudo apt-get install libgtk-3-dev\n",
    "```\n"
   ]
  },
  {
   "cell_type": "code",
   "execution_count": null,
   "metadata": {},
   "outputs": [],
   "source": [
    "sudo apt-get install libgtk-3-dev"
   ]
  },
  {
   "cell_type": "markdown",
   "metadata": {},
   "source": [
    "export DISPLAY=:0 komutu ile ssh ile bağlanıp GUI program çalıştırılabiliyor."
   ]
  },
  {
   "cell_type": "code",
   "execution_count": null,
   "metadata": {},
   "outputs": [],
   "source": []
  },
  {
   "cell_type": "code",
   "execution_count": null,
   "metadata": {},
   "outputs": [],
   "source": []
  },
  {
   "cell_type": "code",
   "execution_count": null,
   "metadata": {},
   "outputs": [],
   "source": []
  }
 ],
 "metadata": {
  "kernelspec": {
   "display_name": "Python 2",
   "language": "python",
   "name": "python2"
  },
  "language_info": {
   "codemirror_mode": {
    "name": "ipython",
    "version": 2
   },
   "file_extension": ".py",
   "mimetype": "text/x-python",
   "name": "python",
   "nbconvert_exporter": "python",
   "pygments_lexer": "ipython2",
   "version": "2.7.6"
  }
 },
 "nbformat": 4,
 "nbformat_minor": 0
}
